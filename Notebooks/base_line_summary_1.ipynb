{
 "cells": [
  {
   "cell_type": "markdown",
   "metadata": {},
   "source": [
    "# Baseline Model\n",
    "## Extractive Summarization\n",
    "\n",
    "The code aims to generate an extractive summary for a specific product's reviews. It starts by filtering the DataFrame to obtain reviews for a particular product based on its product id. The goal is to identify the most relevant sentences from these reviews to create a concise summary that highlights the key points and sentiments expressed by customers. To achieve this, it utilizes BERT embeddings and cosine similarity as follows:\n"
   ]
  },
  {
   "cell_type": "code",
   "execution_count": 1,
   "metadata": {},
   "outputs": [
    {
     "name": "stderr",
     "output_type": "stream",
     "text": [
      "/Users/williamfussell/anaconda3/envs/capstonelast/lib/python3.8/site-packages/tqdm/auto.py:21: TqdmWarning: IProgress not found. Please update jupyter and ipywidgets. See https://ipywidgets.readthedocs.io/en/stable/user_install.html\n",
      "  from .autonotebook import tqdm as notebook_tqdm\n"
     ]
    }
   ],
   "source": [
    "import pandas as pd\n",
    "import numpy as np\n",
    "import matplotlib.pyplot as plt\n",
    "\n",
    "from transformers import BertTokenizer, BertModel\n",
    "import torch\n",
    "from sklearn.metrics.pairwise import cosine_similarity\n",
    "\n",
    "import networkx as nx\n",
    "from transformers import BertTokenizer, BertModel\n",
    "from nltk.tokenize import sent_tokenize"
   ]
  },
  {
   "cell_type": "code",
   "execution_count": 2,
   "metadata": {},
   "outputs": [],
   "source": [
    "# Read the data\n",
    "df_neg = pd.read_json('/Users/williamfussell/Downloads/df_neg_sample.json')\n",
    "df_pos = pd.read_json('/Users/williamfussell/Downloads/df_pos_sample.json')\n"
   ]
  },
  {
   "cell_type": "code",
   "execution_count": 3,
   "metadata": {},
   "outputs": [
    {
     "data": {
      "text/html": [
       "<div>\n",
       "<style scoped>\n",
       "    .dataframe tbody tr th:only-of-type {\n",
       "        vertical-align: middle;\n",
       "    }\n",
       "\n",
       "    .dataframe tbody tr th {\n",
       "        vertical-align: top;\n",
       "    }\n",
       "\n",
       "    .dataframe thead th {\n",
       "        text-align: right;\n",
       "    }\n",
       "</style>\n",
       "<table border=\"1\" class=\"dataframe\">\n",
       "  <thead>\n",
       "    <tr style=\"text-align: right;\">\n",
       "      <th></th>\n",
       "      <th>asin</th>\n",
       "      <th>title</th>\n",
       "      <th>reviewText</th>\n",
       "    </tr>\n",
       "  </thead>\n",
       "  <tbody>\n",
       "    <tr>\n",
       "      <th>0</th>\n",
       "      <td>B0000AXRH5</td>\n",
       "      <td>FloTool 10701 Spill Saver Multi-Purpose Funnel</td>\n",
       "      <td>product is in good shape but very small. wasn'...</td>\n",
       "    </tr>\n",
       "    <tr>\n",
       "      <th>1</th>\n",
       "      <td>B0000AXU02</td>\n",
       "      <td>Hopkins 48735 4 Wire Flat Weatherproof Replace...</td>\n",
       "      <td>Does not fit properly and pops open often as a...</td>\n",
       "    </tr>\n",
       "    <tr>\n",
       "      <th>2</th>\n",
       "      <td>B0000AY3DS</td>\n",
       "      <td>CIPA 11119 Economy 2.5\" x 8\" Marine Mirror</td>\n",
       "      <td>Flimsy cheap mirror that has an extremely dist...</td>\n",
       "    </tr>\n",
       "    <tr>\n",
       "      <th>3</th>\n",
       "      <td>B0000AY3SR</td>\n",
       "      <td>Meguiar's PlastX Clear Plastic Cleaner &amp;amp; P...</td>\n",
       "      <td>Waste of money. Virtually no improvement.\\nI g...</td>\n",
       "    </tr>\n",
       "    <tr>\n",
       "      <th>4</th>\n",
       "      <td>B0000AZ9KS</td>\n",
       "      <td>Keeper 05059 Ratcheting Cargo Bar</td>\n",
       "      <td>item is to lite for my needs\\nI agree, it is f...</td>\n",
       "    </tr>\n",
       "  </tbody>\n",
       "</table>\n",
       "</div>"
      ],
      "text/plain": [
       "         asin                                              title  \\\n",
       "0  B0000AXRH5     FloTool 10701 Spill Saver Multi-Purpose Funnel   \n",
       "1  B0000AXU02  Hopkins 48735 4 Wire Flat Weatherproof Replace...   \n",
       "2  B0000AY3DS         CIPA 11119 Economy 2.5\" x 8\" Marine Mirror   \n",
       "3  B0000AY3SR  Meguiar's PlastX Clear Plastic Cleaner &amp; P...   \n",
       "4  B0000AZ9KS                  Keeper 05059 Ratcheting Cargo Bar   \n",
       "\n",
       "                                          reviewText  \n",
       "0  product is in good shape but very small. wasn'...  \n",
       "1  Does not fit properly and pops open often as a...  \n",
       "2  Flimsy cheap mirror that has an extremely dist...  \n",
       "3  Waste of money. Virtually no improvement.\\nI g...  \n",
       "4  item is to lite for my needs\\nI agree, it is f...  "
      ]
     },
     "execution_count": 3,
     "metadata": {},
     "output_type": "execute_result"
    }
   ],
   "source": [
    "# Inspect the data\n",
    "df_neg.head()"
   ]
  },
  {
   "cell_type": "code",
   "execution_count": 5,
   "metadata": {},
   "outputs": [
    {
     "data": {
      "text/html": [
       "<div>\n",
       "<style scoped>\n",
       "    .dataframe tbody tr th:only-of-type {\n",
       "        vertical-align: middle;\n",
       "    }\n",
       "\n",
       "    .dataframe tbody tr th {\n",
       "        vertical-align: top;\n",
       "    }\n",
       "\n",
       "    .dataframe thead th {\n",
       "        text-align: right;\n",
       "    }\n",
       "</style>\n",
       "<table border=\"1\" class=\"dataframe\">\n",
       "  <thead>\n",
       "    <tr style=\"text-align: right;\">\n",
       "      <th></th>\n",
       "      <th>asin</th>\n",
       "      <th>title</th>\n",
       "      <th>reviewText</th>\n",
       "    </tr>\n",
       "  </thead>\n",
       "  <tbody>\n",
       "    <tr>\n",
       "      <th>0</th>\n",
       "      <td>B0012TYYKU</td>\n",
       "      <td>Show Chrome Replacement Black Grommets Honda 5...</td>\n",
       "      <td>looks good a lot cheaper than oem\\nThese items...</td>\n",
       "    </tr>\n",
       "    <tr>\n",
       "      <th>1</th>\n",
       "      <td>B00NGT7QI6</td>\n",
       "      <td>Polaris 2879969 Rear View Mirror</td>\n",
       "      <td>Wide view.\\nGood product\\nFit my '17 570 range...</td>\n",
       "    </tr>\n",
       "    <tr>\n",
       "      <th>2</th>\n",
       "      <td>B00GHT95EK</td>\n",
       "      <td>DORMAN 924-807 Replacement Center Console Latch</td>\n",
       "      <td>Fits perfectly and so much better than the dea...</td>\n",
       "    </tr>\n",
       "    <tr>\n",
       "      <th>3</th>\n",
       "      <td>B005FL6K1W</td>\n",
       "      <td>Power Stop K2391 Rear Z23 Evolution Brake Kit ...</td>\n",
       "      <td>Used it for my Honda Accord 2007 EX rear break...</td>\n",
       "    </tr>\n",
       "    <tr>\n",
       "      <th>4</th>\n",
       "      <td>B0078U83CM</td>\n",
       "      <td>Yukon Gear &amp;amp; Axle (AK 1559) Torrington 2.5...</td>\n",
       "      <td>appears to be the same Torrington brand as OEM...</td>\n",
       "    </tr>\n",
       "  </tbody>\n",
       "</table>\n",
       "</div>"
      ],
      "text/plain": [
       "         asin                                              title  \\\n",
       "0  B0012TYYKU  Show Chrome Replacement Black Grommets Honda 5...   \n",
       "1  B00NGT7QI6                   Polaris 2879969 Rear View Mirror   \n",
       "2  B00GHT95EK    DORMAN 924-807 Replacement Center Console Latch   \n",
       "3  B005FL6K1W  Power Stop K2391 Rear Z23 Evolution Brake Kit ...   \n",
       "4  B0078U83CM  Yukon Gear &amp; Axle (AK 1559) Torrington 2.5...   \n",
       "\n",
       "                                          reviewText  \n",
       "0  looks good a lot cheaper than oem\\nThese items...  \n",
       "1  Wide view.\\nGood product\\nFit my '17 570 range...  \n",
       "2  Fits perfectly and so much better than the dea...  \n",
       "3  Used it for my Honda Accord 2007 EX rear break...  \n",
       "4  appears to be the same Torrington brand as OEM...  "
      ]
     },
     "execution_count": 5,
     "metadata": {},
     "output_type": "execute_result"
    }
   ],
   "source": [
    "df_pos.head()"
   ]
  },
  {
   "cell_type": "code",
   "execution_count": 8,
   "metadata": {},
   "outputs": [
    {
     "name": "stdout",
     "output_type": "stream",
     "text": [
      "Flimsy cheap mirror that has an extremely distorted view.  Not worth the price.ther\n",
      "Cheesy!\n",
      "Really small\n",
      "Very dissatisfied with mounted it on my pontoon boat drove to the lake when I got to the lake did not realize it the glass part of it was missing now all I have is a plastic frame you wood thinking would last a lot longer  then one trip than that very very dissatisfied\n",
      "No good, rusted out after one season. Boooooo!\n",
      "great price, looks good, but hard to see any thing with it.\n",
      "Cheap plastic with a mirror finish. Doubt it will last out the season.\n",
      "no universel mounting bracket!\n",
      "Junk, avoid this.  It will not stay clipped on.  The plastic is too flimsy for the clamp to stay attached.\n",
      "Cheap mirror..  Gets job done but wouldn't recommend for anything more than that.\n",
      "I wouldn't put this on a jon boat.  Straight to the trash.\n",
      "Cheap product, too small, flimsy. Would not buy it again if I would need to. I just used the clamp from it that I fabricated to attached to the old better - bigger mirror.\n",
      "Not very clear to see, and it broke around 30 mph.\n",
      "Cheap and blurry, But what I expected for the price. Does mount easily\n",
      "\n",
      "Buy metal or glass for clear visibility\n",
      "2nd one I ordered, the slightest bump and it is broken. I put a new one in my boat on saturday 7/13 and I bumped it on sunday 7/14\n",
      "it broke.\n",
      "Tried to save a buck...you get what you pay for. The clamp actually popped itself off as soon as I mounted it.\n"
     ]
    }
   ],
   "source": [
    "print(df_neg['reviewText'][2])"
   ]
  },
  {
   "cell_type": "markdown",
   "metadata": {},
   "source": [
    "---\n",
    "In the next bit of code we will:\n",
    "\n",
    "- BERT (Bidirectional Encoder Representations from Transformers) is used to convert each sentence in the reviews into numerical embeddings, capturing the semantic meaning of the text.\n",
    "\n",
    "- Cosine similarity is computed between all pairs of sentences to measure their similarity in the high-dimensional BERT embedding space. This helps identify sentences with similar content and sentiment.\n",
    "\n",
    "- Average cosine similarity scores are calculated for each review. Reviews with higher average scores are considered more representative and informative.\n",
    "\n",
    "- The code selects the top three reviews with the highest average cosine similarity scores, ensuring that they likely contain the most relevant information.\n",
    "\n",
    "- For each of these top reviews, up to three sentences are extracted to form the final extractive summary. These sentences are selected based on their importance and coherence within the review.\n"
   ]
  },
  {
   "cell_type": "code",
   "execution_count": 7,
   "metadata": {},
   "outputs": [
    {
     "name": "stdout",
     "output_type": "stream",
     "text": [
      "\"Flimsy cheap mirror that has an extremely distorted view\"\n",
      "\n",
      "\" Not worth the price.ther\n",
      "Cheesy!\n",
      "Really small\n",
      "Very dissatisfied with mounted it on my pontoon boat drove to the lake when I got to the lake did not realize it the glass part of it was missing now all I have is a plastic frame you wood thinking would last a lot longer  then one trip than that very very dissatisfied\n",
      "No good, rusted out after one season\"\n",
      "\n",
      "\"Boooooo!\n",
      "great price, looks good, but hard to see any thing with it.\n",
      "Cheap plastic with a mirror finish\"\n",
      "\n"
     ]
    }
   ],
   "source": [
    "# Filter the DataFrame \n",
    "product_asin = df_neg['asin'][2]\n",
    "product_reviews = df_neg[df_neg['asin'] == product_asin]['reviewText'].tolist()\n",
    "\n",
    "#number of sentences we will keep in the summary\n",
    "num_sentences_in_summary = 3\n",
    "\n",
    "# load BERT tokenizer and model\n",
    "tokenizer = BertTokenizer.from_pretrained(\"bert-base-uncased\")\n",
    "model = BertModel.from_pretrained(\"bert-base-uncased\")\n",
    "\n",
    "# Function to generate BERT embeddings \n",
    "def get_bert_embedding(sentence):\n",
    "    input_ids = tokenizer.encode(sentence, add_special_tokens=True)\n",
    "    inputs = torch.tensor([input_ids])\n",
    "    with torch.no_grad():\n",
    "        outputs = model(inputs)\n",
    "        return outputs.last_hidden_state.mean(dim=1).numpy()\n",
    "\n",
    "# generate BERT embeddings \n",
    "sentence_embeddings = [get_bert_embedding(sentence) for sentence in product_reviews]\n",
    "\n",
    "# Calculate cosine similarity between sentences\n",
    "cosine_similarities = cosine_similarity(np.vstack(sentence_embeddings))\n",
    "\n",
    "# Get the average cosine similarity score for each review\n",
    "average_cosine_similarities = cosine_similarities.mean(axis=1)\n",
    "\n",
    "# Select the indices of the top three reviews based on their average cosine similarity score\n",
    "top_review_indices = np.argsort(average_cosine_similarities)[-num_sentences_in_summary:]\n",
    "\n",
    "# Geerate the extractive summary by selecting sentences from the top reviews\n",
    "extractive_summary = []\n",
    "for i in top_review_indices:\n",
    "    sentences = product_reviews[i].split('. ')  # Split the review into sentences\n",
    "    selected_sentences = sentences[:min(3, len(sentences))]  # Select up to 3 sentences\n",
    "    extractive_summary.extend(selected_sentences)\n",
    "\n",
    "# create a string with extrcted sentences \n",
    "formatted_summary = '\\n'.join(['\"' + sentence + '\"\\n' for sentence in extractive_summary])\n",
    "\n",
    "print(formatted_summary)\n",
    "    \n"
   ]
  },
  {
   "cell_type": "markdown",
   "metadata": {},
   "source": [
    "---\n",
    "\n",
    "NExt we will need to evaluate the quality of an extractive summary compared to a reference summary using the ROUGE metric in Python. ROUGE (Recall-Oriented Understudy for Gisting Evaluation) is a widely used metric for assessing the quality of text summaries. It measures the overlap in content between the generated summary and the reference summary.\n",
    "\n",
    "***What ROUGE Does***:\n",
    "ROUGE is designed to evaluate the performance of text summarization systems by measuring how well the generated summary aligns with a reference or ground truth summary.\n",
    "It assesses various aspects of overlap, including word overlap (ROUGE-1), bigram overlap (ROUGE-2), and longest common subsequence (ROUGE-L), among others.\n",
    "ROUGE provides a way to quantify the quality of summarization outputs. \n",
    "\n",
    "The reference summary we will use was generated using OPEN AI's API with GPT 3.5 TURBO\n",
    "\n",
    "---"
   ]
  },
  {
   "cell_type": "code",
   "execution_count": 15,
   "metadata": {},
   "outputs": [
    {
     "name": "stdout",
     "output_type": "stream",
     "text": [
      "ROUGE-2 F1 Score: 0.08053690791585993\n",
      "ROUGE-L F1 Score: 0.2079999950924801\n"
     ]
    }
   ],
   "source": [
    "from rouge import Rouge\n",
    "\n",
    "# Instantiate the ROUGE scorer\n",
    "rouge = Rouge()\n",
    "\n",
    "# Define your extractive summary and reference summary as strings\n",
    "extractive_summary = (\n",
    "\"Flimsy cheap mirror that has an extremely distorted view\"\n",
    "\n",
    "\" Not worth the price.ther\"\n",
    "\"Cheesy!\"\n",
    "\"Really small\"\n",
    "\"Very dissatisfied with mounted it on my pontoon boat drove to the lake when I got to the lake did not realize it the glass part of it was missing now all I have is a plastic frame you wood thinking would last a lot longer  then one trip than that very very dissatisfied\"\n",
    "\"No good, rusted out after one season\"\n",
    "\n",
    "\"Boooooo!\"\n",
    "\"great price, looks good, but hard to see any thing with it.\"\n",
    "\"Cheap plastic with a mirror finish\"\n",
    ")\n",
    "# chat gpt reference summary.\n",
    "reference_summary = (\n",
    "    'The product is described as flimsy and cheap, with an extremely distorted view, making it not worth the price.\\n'\n",
    "    \"Many customers expressed dissatisfaction with its quality, mentioning issues like rusting after one season, difficulty in seeing clearly, and the plastic frame not lasting long.\\n\"\n",
    "    'Several users recommended avoiding this product and suggested investing in a higher-quality mirror for better visibility and durability.')\n",
    "\n",
    "# Calculate ROUGE scores\n",
    "scores = rouge.get_scores(extractive_summary, reference_summary)\n",
    "\n",
    "# Access specific ROUGE metrics (e.g., ROUGE-2, ROUGE-L)\n",
    "rouge_2_f1 = scores[0][\"rouge-2\"][\"f\"]\n",
    "rouge_l_f1 = scores[0][\"rouge-l\"][\"f\"]\n",
    "\n",
    "# Print the scores\n",
    "print(\"ROUGE-2 F1 Score:\", rouge_2_f1)\n",
    "print(\"ROUGE-L F1 Score:\", rouge_l_f1)"
   ]
  },
  {
   "cell_type": "markdown",
   "metadata": {},
   "source": [
    "---\n",
    "\n",
    "The ROUGE-2 F1 score is approximately 0.0805, indicating that the extractive summary has a relatively low overlap of consecutive word pairs (bigrams) with the reference summary. This suggests that the extractive summary may not effectively capture important phrases and content from the reference summary.\n",
    "\n",
    "The ROUGE-L F1 score is approximately 0.2080, indicating a slightly higher but still relatively low score. This suggests that while the extractive summary may share some common subsequence of words with the reference summary, there is still significant room for improvement in terms of replicating the structural and content-related aspects of the reference summary.\n",
    "\n",
    "In summary, both ROUGE-2 and ROUGE-L F1 scores suggest that the extractive summary falls short in terms of content overlap and structural coherence when compared to the reference summary. This leads us to the need for a more robust state-of-the-art model.\n",
    "\n",
    "---"
   ]
  }
 ],
 "metadata": {
  "kernelspec": {
   "display_name": "base",
   "language": "python",
   "name": "python3"
  },
  "language_info": {
   "codemirror_mode": {
    "name": "ipython",
    "version": 3
   },
   "file_extension": ".py",
   "mimetype": "text/x-python",
   "name": "python",
   "nbconvert_exporter": "python",
   "pygments_lexer": "ipython3",
   "version": "3.8.18"
  },
  "orig_nbformat": 4
 },
 "nbformat": 4,
 "nbformat_minor": 2
}
